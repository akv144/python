{
 "cells": [
  {
   "cell_type": "code",
   "execution_count": 136,
   "metadata": {},
   "outputs": [],
   "source": [
    "dates = ['2019-07-01 12:01:19.111',\n",
    "    '2019-06-24 12:01:19.222',\n",
    "    '2019-11-16 16:44:55.406',\n",
    "    '2019-11-16 16:50:59.406']"
   ]
  },
  {
   "cell_type": "code",
   "execution_count": 137,
   "metadata": {},
   "outputs": [],
   "source": [
    "import pandas as pd"
   ]
  },
  {
   "cell_type": "code",
   "execution_count": 138,
   "metadata": {},
   "outputs": [],
   "source": [
    "df=pd.DataFrame(dates,columns=['Date'])"
   ]
  },
  {
   "cell_type": "code",
   "execution_count": 139,
   "metadata": {},
   "outputs": [],
   "source": [
    "v=pd.to_datetime(dates)"
   ]
  },
  {
   "cell_type": "code",
   "execution_count": 140,
   "metadata": {},
   "outputs": [
    {
     "data": {
      "text/html": [
       "<div>\n",
       "<style scoped>\n",
       "    .dataframe tbody tr th:only-of-type {\n",
       "        vertical-align: middle;\n",
       "    }\n",
       "\n",
       "    .dataframe tbody tr th {\n",
       "        vertical-align: top;\n",
       "    }\n",
       "\n",
       "    .dataframe thead th {\n",
       "        text-align: right;\n",
       "    }\n",
       "</style>\n",
       "<table border=\"1\" class=\"dataframe\">\n",
       "  <thead>\n",
       "    <tr style=\"text-align: right;\">\n",
       "      <th></th>\n",
       "      <th>Date</th>\n",
       "    </tr>\n",
       "  </thead>\n",
       "  <tbody>\n",
       "    <tr>\n",
       "      <th>0</th>\n",
       "      <td>2019-07-01 12:01:19.111</td>\n",
       "    </tr>\n",
       "    <tr>\n",
       "      <th>1</th>\n",
       "      <td>2019-06-24 12:01:19.222</td>\n",
       "    </tr>\n",
       "    <tr>\n",
       "      <th>2</th>\n",
       "      <td>2019-11-16 16:44:55.406</td>\n",
       "    </tr>\n",
       "    <tr>\n",
       "      <th>3</th>\n",
       "      <td>2019-11-16 16:50:59.406</td>\n",
       "    </tr>\n",
       "  </tbody>\n",
       "</table>\n",
       "</div>"
      ],
      "text/plain": [
       "                      Date\n",
       "0  2019-07-01 12:01:19.111\n",
       "1  2019-06-24 12:01:19.222\n",
       "2  2019-11-16 16:44:55.406\n",
       "3  2019-11-16 16:50:59.406"
      ]
     },
     "execution_count": 140,
     "metadata": {},
     "output_type": "execute_result"
    }
   ],
   "source": [
    "df"
   ]
  },
  {
   "cell_type": "code",
   "execution_count": 141,
   "metadata": {},
   "outputs": [],
   "source": [
    "df=pd.to_datetime(df['Date'])"
   ]
  },
  {
   "cell_type": "code",
   "execution_count": 142,
   "metadata": {},
   "outputs": [
    {
     "data": {
      "text/plain": [
       "0   2019-07-01 12:01:19.111\n",
       "1   2019-06-24 12:01:19.222\n",
       "2   2019-11-16 16:44:55.406\n",
       "3   2019-11-16 16:50:59.406\n",
       "Name: Date, dtype: datetime64[ns]"
      ]
     },
     "execution_count": 142,
     "metadata": {},
     "output_type": "execute_result"
    }
   ],
   "source": [
    "df"
   ]
  },
  {
   "cell_type": "code",
   "execution_count": 143,
   "metadata": {},
   "outputs": [],
   "source": [
    "g=pd.Timestamp.now()"
   ]
  },
  {
   "cell_type": "code",
   "execution_count": 144,
   "metadata": {},
   "outputs": [],
   "source": [
    "g=[]\n",
    "for i in range(len(v)):\n",
    "    g.append(pd.Timestamp.now())\n"
   ]
  },
  {
   "cell_type": "code",
   "execution_count": 145,
   "metadata": {},
   "outputs": [
    {
     "data": {
      "text/plain": [
       "[Timestamp('2022-09-21 15:36:50.726232'),\n",
       " Timestamp('2022-09-21 15:36:50.726232'),\n",
       " Timestamp('2022-09-21 15:36:50.726232'),\n",
       " Timestamp('2022-09-21 15:36:50.726232')]"
      ]
     },
     "execution_count": 145,
     "metadata": {},
     "output_type": "execute_result"
    }
   ],
   "source": [
    "g"
   ]
  },
  {
   "cell_type": "code",
   "execution_count": 146,
   "metadata": {},
   "outputs": [
    {
     "data": {
      "text/plain": [
       "4"
      ]
     },
     "execution_count": 146,
     "metadata": {},
     "output_type": "execute_result"
    }
   ],
   "source": [
    "len(v)"
   ]
  },
  {
   "cell_type": "code",
   "execution_count": 147,
   "metadata": {},
   "outputs": [
    {
     "data": {
      "text/plain": [
       "DatetimeIndex(['2019-07-01 12:01:19.111000', '2019-06-24 12:01:19.222000',\n",
       "               '2019-11-16 16:44:55.406000', '2019-11-16 16:50:59.406000'],\n",
       "              dtype='datetime64[ns]', freq=None)"
      ]
     },
     "execution_count": 147,
     "metadata": {},
     "output_type": "execute_result"
    }
   ],
   "source": [
    "v"
   ]
  },
  {
   "cell_type": "code",
   "execution_count": 148,
   "metadata": {},
   "outputs": [
    {
     "data": {
      "text/plain": [
       "[(Timestamp('2022-09-21 15:36:50.726232'),\n",
       "  Timestamp('2019-07-01 12:01:19.111000')),\n",
       " (Timestamp('2022-09-21 15:36:50.726232'),\n",
       "  Timestamp('2019-06-24 12:01:19.222000')),\n",
       " (Timestamp('2022-09-21 15:36:50.726232'),\n",
       "  Timestamp('2019-11-16 16:44:55.406000')),\n",
       " (Timestamp('2022-09-21 15:36:50.726232'),\n",
       "  Timestamp('2019-11-16 16:50:59.406000'))]"
      ]
     },
     "execution_count": 148,
     "metadata": {},
     "output_type": "execute_result"
    }
   ],
   "source": [
    "list(zip(g,v))"
   ]
  },
  {
   "cell_type": "code",
   "execution_count": 149,
   "metadata": {},
   "outputs": [],
   "source": [
    "df1=pd.DataFrame(zip(g,v),columns=[\"curr_dat\",'Date',])"
   ]
  },
  {
   "cell_type": "code",
   "execution_count": 150,
   "metadata": {},
   "outputs": [
    {
     "data": {
      "text/html": [
       "<div>\n",
       "<style scoped>\n",
       "    .dataframe tbody tr th:only-of-type {\n",
       "        vertical-align: middle;\n",
       "    }\n",
       "\n",
       "    .dataframe tbody tr th {\n",
       "        vertical-align: top;\n",
       "    }\n",
       "\n",
       "    .dataframe thead th {\n",
       "        text-align: right;\n",
       "    }\n",
       "</style>\n",
       "<table border=\"1\" class=\"dataframe\">\n",
       "  <thead>\n",
       "    <tr style=\"text-align: right;\">\n",
       "      <th></th>\n",
       "      <th>curr_dat</th>\n",
       "      <th>Date</th>\n",
       "    </tr>\n",
       "  </thead>\n",
       "  <tbody>\n",
       "    <tr>\n",
       "      <th>0</th>\n",
       "      <td>2022-09-21 15:36:50.726232</td>\n",
       "      <td>2019-07-01 12:01:19.111</td>\n",
       "    </tr>\n",
       "    <tr>\n",
       "      <th>1</th>\n",
       "      <td>2022-09-21 15:36:50.726232</td>\n",
       "      <td>2019-06-24 12:01:19.222</td>\n",
       "    </tr>\n",
       "    <tr>\n",
       "      <th>2</th>\n",
       "      <td>2022-09-21 15:36:50.726232</td>\n",
       "      <td>2019-11-16 16:44:55.406</td>\n",
       "    </tr>\n",
       "    <tr>\n",
       "      <th>3</th>\n",
       "      <td>2022-09-21 15:36:50.726232</td>\n",
       "      <td>2019-11-16 16:50:59.406</td>\n",
       "    </tr>\n",
       "  </tbody>\n",
       "</table>\n",
       "</div>"
      ],
      "text/plain": [
       "                    curr_dat                    Date\n",
       "0 2022-09-21 15:36:50.726232 2019-07-01 12:01:19.111\n",
       "1 2022-09-21 15:36:50.726232 2019-06-24 12:01:19.222\n",
       "2 2022-09-21 15:36:50.726232 2019-11-16 16:44:55.406\n",
       "3 2022-09-21 15:36:50.726232 2019-11-16 16:50:59.406"
      ]
     },
     "execution_count": 150,
     "metadata": {},
     "output_type": "execute_result"
    }
   ],
   "source": [
    "df1"
   ]
  },
  {
   "cell_type": "code",
   "execution_count": 151,
   "metadata": {},
   "outputs": [
    {
     "data": {
      "text/plain": [
       "0    1178\n",
       "1    1185\n",
       "2    1039\n",
       "3    1039\n",
       "dtype: int64"
      ]
     },
     "execution_count": 151,
     "metadata": {},
     "output_type": "execute_result"
    }
   ],
   "source": [
    "k=(df1.curr_dat-df1.Date).dt.days\n",
    "k"
   ]
  },
  {
   "cell_type": "code",
   "execution_count": 152,
   "metadata": {},
   "outputs": [],
   "source": [
    "q=k*24"
   ]
  },
  {
   "cell_type": "code",
   "execution_count": 153,
   "metadata": {},
   "outputs": [],
   "source": [
    "m=q*60"
   ]
  },
  {
   "cell_type": "code",
   "execution_count": 154,
   "metadata": {},
   "outputs": [],
   "source": [
    "s=m*60"
   ]
  },
  {
   "cell_type": "code",
   "execution_count": 155,
   "metadata": {},
   "outputs": [],
   "source": [
    "df1['no_date']=k\n",
    "df1['hrs']=q\n",
    "df1['min']=m\n",
    "df1['sec']=s"
   ]
  },
  {
   "cell_type": "code",
   "execution_count": 156,
   "metadata": {},
   "outputs": [
    {
     "data": {
      "text/html": [
       "<div>\n",
       "<style scoped>\n",
       "    .dataframe tbody tr th:only-of-type {\n",
       "        vertical-align: middle;\n",
       "    }\n",
       "\n",
       "    .dataframe tbody tr th {\n",
       "        vertical-align: top;\n",
       "    }\n",
       "\n",
       "    .dataframe thead th {\n",
       "        text-align: right;\n",
       "    }\n",
       "</style>\n",
       "<table border=\"1\" class=\"dataframe\">\n",
       "  <thead>\n",
       "    <tr style=\"text-align: right;\">\n",
       "      <th></th>\n",
       "      <th>curr_dat</th>\n",
       "      <th>Date</th>\n",
       "      <th>no_date</th>\n",
       "      <th>hrs</th>\n",
       "      <th>min</th>\n",
       "      <th>sec</th>\n",
       "    </tr>\n",
       "  </thead>\n",
       "  <tbody>\n",
       "    <tr>\n",
       "      <th>0</th>\n",
       "      <td>2022-09-21 15:36:50.726232</td>\n",
       "      <td>2019-07-01 12:01:19.111</td>\n",
       "      <td>1178</td>\n",
       "      <td>28272</td>\n",
       "      <td>1696320</td>\n",
       "      <td>101779200</td>\n",
       "    </tr>\n",
       "    <tr>\n",
       "      <th>1</th>\n",
       "      <td>2022-09-21 15:36:50.726232</td>\n",
       "      <td>2019-06-24 12:01:19.222</td>\n",
       "      <td>1185</td>\n",
       "      <td>28440</td>\n",
       "      <td>1706400</td>\n",
       "      <td>102384000</td>\n",
       "    </tr>\n",
       "    <tr>\n",
       "      <th>2</th>\n",
       "      <td>2022-09-21 15:36:50.726232</td>\n",
       "      <td>2019-11-16 16:44:55.406</td>\n",
       "      <td>1039</td>\n",
       "      <td>24936</td>\n",
       "      <td>1496160</td>\n",
       "      <td>89769600</td>\n",
       "    </tr>\n",
       "    <tr>\n",
       "      <th>3</th>\n",
       "      <td>2022-09-21 15:36:50.726232</td>\n",
       "      <td>2019-11-16 16:50:59.406</td>\n",
       "      <td>1039</td>\n",
       "      <td>24936</td>\n",
       "      <td>1496160</td>\n",
       "      <td>89769600</td>\n",
       "    </tr>\n",
       "  </tbody>\n",
       "</table>\n",
       "</div>"
      ],
      "text/plain": [
       "                    curr_dat                    Date  no_date    hrs      min  \\\n",
       "0 2022-09-21 15:36:50.726232 2019-07-01 12:01:19.111     1178  28272  1696320   \n",
       "1 2022-09-21 15:36:50.726232 2019-06-24 12:01:19.222     1185  28440  1706400   \n",
       "2 2022-09-21 15:36:50.726232 2019-11-16 16:44:55.406     1039  24936  1496160   \n",
       "3 2022-09-21 15:36:50.726232 2019-11-16 16:50:59.406     1039  24936  1496160   \n",
       "\n",
       "         sec  \n",
       "0  101779200  \n",
       "1  102384000  \n",
       "2   89769600  \n",
       "3   89769600  "
      ]
     },
     "execution_count": 156,
     "metadata": {},
     "output_type": "execute_result"
    }
   ],
   "source": [
    "df1"
   ]
  },
  {
   "cell_type": "code",
   "execution_count": 157,
   "metadata": {},
   "outputs": [
    {
     "data": {
      "text/html": [
       "<div>\n",
       "<style scoped>\n",
       "    .dataframe tbody tr th:only-of-type {\n",
       "        vertical-align: middle;\n",
       "    }\n",
       "\n",
       "    .dataframe tbody tr th {\n",
       "        vertical-align: top;\n",
       "    }\n",
       "\n",
       "    .dataframe thead th {\n",
       "        text-align: right;\n",
       "    }\n",
       "</style>\n",
       "<table border=\"1\" class=\"dataframe\">\n",
       "  <thead>\n",
       "    <tr style=\"text-align: right;\">\n",
       "      <th></th>\n",
       "      <th>curr_dat</th>\n",
       "      <th>Date</th>\n",
       "      <th>no_date</th>\n",
       "      <th>hrs</th>\n",
       "      <th>min</th>\n",
       "      <th>sec</th>\n",
       "    </tr>\n",
       "  </thead>\n",
       "  <tbody>\n",
       "    <tr>\n",
       "      <th>0</th>\n",
       "      <td>2022-09-21 15:36:50.726232</td>\n",
       "      <td>2019-07-01 12:01:19.111</td>\n",
       "      <td>1178</td>\n",
       "      <td>28272</td>\n",
       "      <td>1696320</td>\n",
       "      <td>101779200</td>\n",
       "    </tr>\n",
       "    <tr>\n",
       "      <th>1</th>\n",
       "      <td>2022-09-21 15:36:50.726232</td>\n",
       "      <td>2019-06-24 12:01:19.222</td>\n",
       "      <td>1185</td>\n",
       "      <td>28440</td>\n",
       "      <td>1706400</td>\n",
       "      <td>102384000</td>\n",
       "    </tr>\n",
       "    <tr>\n",
       "      <th>2</th>\n",
       "      <td>2022-09-21 15:36:50.726232</td>\n",
       "      <td>2019-11-16 16:44:55.406</td>\n",
       "      <td>1039</td>\n",
       "      <td>24936</td>\n",
       "      <td>1496160</td>\n",
       "      <td>89769600</td>\n",
       "    </tr>\n",
       "    <tr>\n",
       "      <th>3</th>\n",
       "      <td>2022-09-21 15:36:50.726232</td>\n",
       "      <td>2019-11-16 16:50:59.406</td>\n",
       "      <td>1039</td>\n",
       "      <td>24936</td>\n",
       "      <td>1496160</td>\n",
       "      <td>89769600</td>\n",
       "    </tr>\n",
       "  </tbody>\n",
       "</table>\n",
       "</div>"
      ],
      "text/plain": [
       "                    curr_dat                    Date  no_date    hrs      min  \\\n",
       "0 2022-09-21 15:36:50.726232 2019-07-01 12:01:19.111     1178  28272  1696320   \n",
       "1 2022-09-21 15:36:50.726232 2019-06-24 12:01:19.222     1185  28440  1706400   \n",
       "2 2022-09-21 15:36:50.726232 2019-11-16 16:44:55.406     1039  24936  1496160   \n",
       "3 2022-09-21 15:36:50.726232 2019-11-16 16:50:59.406     1039  24936  1496160   \n",
       "\n",
       "         sec  \n",
       "0  101779200  \n",
       "1  102384000  \n",
       "2   89769600  \n",
       "3   89769600  "
      ]
     },
     "execution_count": 157,
     "metadata": {},
     "output_type": "execute_result"
    }
   ],
   "source": [
    "df1"
   ]
  },
  {
   "cell_type": "code",
   "execution_count": 158,
   "metadata": {},
   "outputs": [
    {
     "data": {
      "text/plain": [
       "0   28275 days 14:12:38.765568\n",
       "1   28443 days 14:12:36.101568\n",
       "2   24958 days 20:46:07.685568\n",
       "3   24958 days 18:20:31.685568\n",
       "dtype: timedelta64[ns]"
      ]
     },
     "execution_count": 158,
     "metadata": {},
     "output_type": "execute_result"
    }
   ],
   "source": [
    "(df1.curr_dat-df1.Date)*24"
   ]
  },
  {
   "cell_type": "code",
   "execution_count": null,
   "metadata": {},
   "outputs": [],
   "source": []
  }
 ],
 "metadata": {
  "kernelspec": {
   "display_name": "Python 3.10.6 64-bit",
   "language": "python",
   "name": "python3"
  },
  "language_info": {
   "codemirror_mode": {
    "name": "ipython",
    "version": 3
   },
   "file_extension": ".py",
   "mimetype": "text/x-python",
   "name": "python",
   "nbconvert_exporter": "python",
   "pygments_lexer": "ipython3",
   "version": "3.10.6"
  },
  "orig_nbformat": 4,
  "vscode": {
   "interpreter": {
    "hash": "fb4569285eef3a3450cb62085a5b1e0da4bce0af555edc33dcf29baf3acc1368"
   }
  }
 },
 "nbformat": 4,
 "nbformat_minor": 2
}
