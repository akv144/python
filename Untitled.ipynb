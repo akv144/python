{
 "cells": [
  {
   "cell_type": "markdown",
   "id": "cf7a308e-b2bc-4fab-af9b-ec45ba6c1763",
   "metadata": {},
   "source": [
    "\n",
    "Q.WAP to print first n Fibonacci series\n"
   ]
  },
  {
   "cell_type": "code",
   "execution_count": 8,
   "id": "200dc7a4-df85-4d81-8fc3-776ceb1d6a52",
   "metadata": {},
   "outputs": [
    {
     "name": "stdin",
     "output_type": "stream",
     "text": [
      "Enter no. of fibonaci series:  9\n"
     ]
    },
    {
     "name": "stdout",
     "output_type": "stream",
     "text": [
      "0 1 1 2 3 5 8 13 21 "
     ]
    }
   ],
   "source": [
    "step=int(input(\"Enter no. of fibonaci series: \"))\n",
    "n1=0\n",
    "n2=1\n",
    "print(n1,end=\" \")\n",
    "print(n2,end=\" \")\n",
    "for i in range(step-2):\n",
    "    n3=n1+n2\n",
    "    print(n3,end=\" \")\n",
    "    n1=n2\n",
    "    n2=n3"
   ]
  },
  {
   "cell_type": "markdown",
   "id": "0560aa28-0ceb-422e-b18c-33f291bfa96c",
   "metadata": {},
   "source": [
    "Q.WAP to multiply add two matrix\n"
   ]
  },
  {
   "cell_type": "code",
   "execution_count": 9,
   "id": "2f415381-03e7-4338-9bf5-887d09de2e84",
   "metadata": {},
   "outputs": [],
   "source": [
    "import numpy as np"
   ]
  },
  {
   "cell_type": "code",
   "execution_count": 10,
   "id": "3f0fc443-d1a7-4175-bf19-b5e4fe551c5b",
   "metadata": {},
   "outputs": [
    {
     "data": {
      "text/plain": [
       "array([[1, 2, 3],\n",
       "       [4, 5, 6],\n",
       "       [7, 8, 9]])"
      ]
     },
     "execution_count": 10,
     "metadata": {},
     "output_type": "execute_result"
    }
   ],
   "source": [
    "arr1=np.arange(1,10).reshape(3,3)\n",
    "arr1"
   ]
  },
  {
   "cell_type": "code",
   "execution_count": 11,
   "id": "b7d09288-e392-4422-9fb9-2c5248bf0428",
   "metadata": {},
   "outputs": [
    {
     "data": {
      "text/plain": [
       "array([[11, 12, 13],\n",
       "       [14, 15, 16],\n",
       "       [17, 18, 19]])"
      ]
     },
     "execution_count": 11,
     "metadata": {},
     "output_type": "execute_result"
    }
   ],
   "source": [
    "arr2=np.arange(11,20).reshape(3,3)\n",
    "arr2"
   ]
  },
  {
   "cell_type": "code",
   "execution_count": 12,
   "id": "ed36360e-3634-4058-a5b1-ab7c0b274ad8",
   "metadata": {},
   "outputs": [
    {
     "data": {
      "text/plain": [
       "array([[ 2,  4,  6],\n",
       "       [ 8, 10, 12],\n",
       "       [14, 16, 18]])"
      ]
     },
     "execution_count": 12,
     "metadata": {},
     "output_type": "execute_result"
    }
   ],
   "source": [
    "# adding two matrix arr1+arr2\n",
    "arr1+arr1"
   ]
  },
  {
   "cell_type": "code",
   "execution_count": 13,
   "id": "fa71bedc-45d5-41d1-b1a2-6dd1ed977a8d",
   "metadata": {},
   "outputs": [
    {
     "data": {
      "text/plain": [
       "array([[ 90,  96, 102],\n",
       "       [216, 231, 246],\n",
       "       [342, 366, 390]])"
      ]
     },
     "execution_count": 13,
     "metadata": {},
     "output_type": "execute_result"
    }
   ],
   "source": [
    "# matrix multiply two matrix arr1.dot(arr2)\n",
    "arr1.dot(arr2)\n"
   ]
  }
 ],
 "metadata": {
  "kernelspec": {
   "display_name": "Python 3 (ipykernel)",
   "language": "python",
   "name": "python3"
  },
  "language_info": {
   "codemirror_mode": {
    "name": "ipython",
    "version": 3
   },
   "file_extension": ".py",
   "mimetype": "text/x-python",
   "name": "python",
   "nbconvert_exporter": "python",
   "pygments_lexer": "ipython3",
   "version": "3.10.8"
  }
 },
 "nbformat": 4,
 "nbformat_minor": 5
}
